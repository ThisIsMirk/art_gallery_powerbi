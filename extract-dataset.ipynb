{
 "cells": [
  {
   "cell_type": "code",
   "execution_count": 2,
   "metadata": {},
   "outputs": [],
   "source": [
    "import pandas as pd"
   ]
  },
  {
   "cell_type": "code",
   "execution_count": 64,
   "metadata": {},
   "outputs": [],
   "source": [
    "artists = [\n",
    "    \"Amedeo Modigliani\",\n",
    "    \"Wassily Kandinsky\",  # Fixed \"Kandinskiy\" to \"Kandinsky\" (common spelling)\n",
    "    \"Diego Rivera\",\n",
    "    \"Claude Monet\",\n",
    "    \"René Magritte\",  # Added accent on \"René\"\n",
    "    \"Salvador Dalí\",  # Added accent on \"Dalí\"\n",
    "    \"Édouard Manet\",  # Added accent on \"Édouard\"\n",
    "    \"Andrei Rublev\",\n",
    "    \"Vincent van Gogh\",\n",
    "    \"Gustav Klimt\",\n",
    "    \"Hieronymus Bosch\",\n",
    "    \"Kazimir Malevich\",\n",
    "    \"Mikhail Vrubel\",\n",
    "    \"Pablo Picasso\",\n",
    "    \"Peter Paul Rubens\",\n",
    "    \"Pierre-Auguste Renoir\",\n",
    "    \"Francisco Goya\",\n",
    "    \"Frida Kahlo\",\n",
    "    \"El Greco\",\n",
    "    \"Albrecht Dürer\",  # Fixed encoding issue \"DÃ¼rer\" → \"Dürer\"\n",
    "    \"Alfred Sisley\",\n",
    "    \"Pieter Bruegel\",\n",
    "    \"Marc Chagall\",\n",
    "    \"Giotto di Bondone\",\n",
    "    \"Sandro Botticelli\",\n",
    "    \"Caravaggio\",\n",
    "    \"Leonardo da Vinci\",\n",
    "    \"Diego Velázquez\",  # Added accent on \"Velázquez\"\n",
    "    \"Henri Matisse\",\n",
    "    \"Jan van Eyck\",\n",
    "    \"Edgar Degas\",\n",
    "    \"Rembrandt\",\n",
    "    \"Titian\",\n",
    "    \"Henri de Toulouse-Lautrec\",\n",
    "    \"Gustave Courbet\",\n",
    "    \"Camille Pissarro\",\n",
    "    \"William Turner\",\n",
    "    \"Edvard Munch\",\n",
    "    \"Paul Cézanne\",  # Added accent on \"Cézanne\"\n",
    "    \"Eugène Delacroix\",  # Added accent on \"Eugène\"\n",
    "    \"Henri Rousseau\",\n",
    "    \"Georges Seurat\",\n",
    "    \"Paul Klee\",\n",
    "    \"Piet Mondrian\",\n",
    "    \"Joan Miró\",  # Added accent on \"Miró\"\n",
    "    \"Andy Warhol\",\n",
    "    \"Paul Gauguin\",\n",
    "    \"Raphael\",\n",
    "    \"Michelangelo\",\n",
    "    \"Jackson Pollock\"\n",
    "]\n"
   ]
  },
  {
   "cell_type": "code",
   "execution_count": 59,
   "metadata": {},
   "outputs": [
    {
     "name": "stdout",
     "output_type": "stream",
     "text": [
      "50\n"
     ]
    }
   ],
   "source": [
    "# Expanding the dictionary to include all artists from the given list\n",
    "artist_bios = {\n",
    "    \"Amedeo Modigliani\": \"Amedeo Modigliani (1884–1920) was an Italian painter and sculptor known for his distinctive portraits with elongated faces and almond-shaped eyes. Influenced by African and Renaissance art, his works include 'Jeanne Hébuterne' and 'Nu Couché'. Despite dying young, his art became highly influential in modernism.\",\n",
    "    \n",
    "    \"Vasiliy Kandinsky\": \"Vasiliy Kandinsky (1866–1944) was a Russian painter and art theorist, widely regarded as a pioneer of abstract art. His works, like 'Composition VII', blend color and form in a spiritual manner. A key figure in the Blue Rider movement, he influenced 20th-century avant-garde art.\",\n",
    "    \n",
    "    \"Diego Rivera\": \"Diego Rivera (1886–1957) was a Mexican muralist known for large frescoes depicting social and political themes. A leader in the Mexican Mural Movement, his works, like 'Man at the Crossroads', celebrate indigenous culture and revolution. He was also the husband of Frida Kahlo.\",\n",
    "    \n",
    "    \"Claude Monet\": \"Claude Monet (1840–1926) was a French impressionist painter best known for his series 'Water Lilies' and 'Impression, Sunrise'. His focus on light, color, and movement defined Impressionism. Monet's plein air technique transformed modern landscape painting and influenced generations of artists.\",\n",
    "    \n",
    "    \"René Magritte\": \"René Magritte (1898–1967) was a Belgian surrealist painter known for thought-provoking, dreamlike imagery. His famous works, like 'The Son of Man' and 'The Treachery of Images', challenge perception and reality. His influence extends beyond fine art into pop culture and advertising.\",\n",
    "    \n",
    "    \"Salvador Dalí\": \"Salvador Dalí (1904–1989) was a Spanish surrealist known for bizarre, dreamlike imagery. His iconic work, 'The Persistence of Memory', features melting clocks symbolizing fluid time. Dalí’s eccentric persona and influence in film, sculpture, and fashion made him a 20th-century cultural icon.\",\n",
    "    \n",
    "    \"Édouard Manet\": \"Édouard Manet (1832–1883) was a French modernist painter who bridged Realism and Impressionism. His works, like 'Olympia' and 'Le Déjeuner sur l’herbe', challenged academic traditions and sparked controversy. Manet's bold brushwork and urban themes revolutionized 19th-century art.\",\n",
    "    \n",
    "    \"Andrei Rublev\": \"Andrei Rublev (c. 1360–1430) was a Russian icon painter and monk, best known for 'The Trinity', a masterpiece of Orthodox Christian art. His works emphasized spirituality, harmony, and symbolism. Rublev’s style became the foundation for Russian religious painting.\",\n",
    "    \n",
    "    \"Vincent van Gogh\": \"Vincent van Gogh (1853–1890) was a Dutch post-impressionist painter known for expressive brushstrokes and bold colors. His works, including 'Starry Night' and 'Sunflowers', reflect intense emotion. Struggling with mental illness, he produced over 2,000 artworks but gained fame posthumously.\",\n",
    "    \n",
    "    \"Gustav Klimt\": \"Gustav Klimt (1862–1918) was an Austrian symbolist painter known for his ornate, decorative style. His masterpiece 'The Kiss' embodies sensuality and gold leaf detailing. A leading figure of the Vienna Secession, Klimt’s works blend symbolism, eroticism, and modernist abstraction.\",\n",
    "    \n",
    "    \"Hieronymus Bosch\": \"Hieronymus Bosch (c. 1450–1516) was a Dutch painter known for fantastical, surreal depictions of religious themes. His masterpiece, 'The Garden of Earthly Delights', is filled with grotesque, dreamlike imagery. Bosch’s works influenced surrealism and remain enigmatic interpretations of human morality.\",\n",
    "    \n",
    "    \"Kazimir Malevich\": \"Kazimir Malevich (1879–1935) was a Russian avant-garde artist, founder of Suprematism. His geometric abstraction, epitomized by 'Black Square', rejected realism in favor of pure form. Malevich’s radical ideas influenced modern minimalism and conceptual art.\",\n",
    "    \n",
    "    \"Mikhail Vrubel\": \"Mikhail Vrubel (1856–1910) was a Russian Symbolist painter known for mystical, expressive works like 'Demon Seated'. His art blended Byzantine influences with modern abstraction. Vrubel’s unique, textured style remains a key influence in Russian modernist movements.\",\n",
    "    \n",
    "    \"Pablo Picasso\": \"Pablo Picasso (1881–1973) was a Spanish artist, co-founder of Cubism. His works, like 'Guernica' and 'Les Demoiselles d’Avignon', revolutionized modern art. Picasso’s prolific career spanned multiple styles, including Surrealism and Neoclassicism, making him one of history’s most influential artists.\",\n",
    "    \n",
    "    \"Peter Paul Rubens\": \"Peter Paul Rubens (1577–1640) was a Flemish Baroque painter known for dynamic compositions and vibrant color. His works, like 'The Descent from the Cross', depict dramatic religious and mythological scenes. Rubens influenced European art with his mastery of movement and emotion.\",\n",
    "    \n",
    "    \"Pierre-Auguste Renoir\": \"Pierre-Auguste Renoir (1841–1919) was a French impressionist painter known for luminous, joyful depictions of social life. His works, such as 'Luncheon of the Boating Party', emphasize vibrant color and soft brushstrokes. Renoir’s style evolved from Impressionism to a more classical approach.\",\n",
    "    \n",
    "    \"Francisco Goya\": \"Francisco Goya (1746–1828) was a Spanish Romantic painter known for bold realism and dark themes. His works, from royal portraits to 'The Black Paintings', reflect war, politics, and human suffering. Goya’s later works pioneered modern Expressionism.\",\n",
    "    \n",
    "    \"Frida Kahlo\": \"Frida Kahlo (1907–1954) was a Mexican surrealist painter known for deeply personal self-portraits like 'The Two Fridas'. Her art explored identity, pain, and feminism. Despite physical suffering, Kahlo’s unique style and bold storytelling made her a cultural icon.\",\n",
    "    \n",
    "    \"El Greco\": \"El Greco (1541–1614) was a Greek painter of the Spanish Renaissance, known for elongated figures and spiritual intensity. His works, like 'The Burial of the Count of Orgaz', blend Byzantine and Mannerist influences. His visionary style influenced modern expressionism.\",\n",
    "    \n",
    "    \"Albrecht Dürer\": \"Albrecht Dürer (1471–1528) was a German Renaissance artist renowned for his engravings, woodcuts, and paintings. Works like 'Melencolia I' and 'The Four Horsemen of the Apocalypse' showcase his mastery of detail and human anatomy. He influenced Northern European art profoundly.\",\n",
    "    \n",
    "    \"Jackson Pollock\": \"Jackson Pollock (1912–1956) was an American abstract expressionist painter known for his drip painting technique. His groundbreaking style involved splattering and pouring paint onto canvases, revolutionizing modern art. A key figure in the New York School, Pollock’s works embody raw energy and spontaneity.\"\n",
    "}\n",
    "artist_bios.update({\n",
    "    \"Alfred Sisley\": \"Alfred Sisley (1839–1899) was a British-French Impressionist painter known for his landscape paintings. His works, such as 'Flood at Port-Marly', capture light and atmosphere with subtle color harmonies. Despite financial struggles, Sisley remained dedicated to Impressionism throughout his career.\",\n",
    "    \n",
    "    \"Pieter Bruegel\": \"Pieter Bruegel the Elder (c. 1525–1569) was a Dutch Renaissance painter known for landscapes and peasant scenes. His masterpieces, such as 'The Hunters in the Snow' and 'The Peasant Wedding', depict rural life with rich detail and social commentary.\",\n",
    "    \n",
    "    \"Marc Chagall\": \"Marc Chagall (1887–1985) was a Russian-French artist blending surrealism and modernism. His dreamlike paintings, such as 'I and the Village', reflect themes of Jewish heritage, folklore, and love. Chagall also worked in stained glass, illustrating biblical themes with vibrant color.\",\n",
    "    \n",
    "    \"Giotto di Bondone\": \"Giotto di Bondone (c. 1267–1337) was an Italian painter and architect, often considered the father of the Renaissance. His frescoes, particularly in the Scrovegni Chapel, introduced realism and emotional depth, bridging the medieval and Renaissance artistic traditions.\",\n",
    "    \n",
    "    \"Sandro Botticelli\": \"Sandro Botticelli (c. 1445–1510) was an Italian Renaissance painter best known for 'The Birth of Venus' and 'Primavera'. His works feature flowing lines, mythological themes, and delicate figures. Botticelli’s art defined the elegance of the Florentine Renaissance.\",\n",
    "    \n",
    "    \"Caravaggio\": \"Caravaggio (1571–1610) was an Italian Baroque master known for dramatic use of light and shadow (chiaroscuro). His intense, realistic works, such as 'The Calling of Saint Matthew', revolutionized painting with raw emotion and theatrical compositions.\",\n",
    "    \n",
    "    \"Leonardo da Vinci\": \"Leonardo da Vinci (1452–1519) was a Renaissance genius, excelling in painting, anatomy, and engineering. His masterpieces, including 'Mona Lisa' and 'The Last Supper', showcase lifelike detail and perspective. His notebooks reveal groundbreaking studies in science and mechanics.\",\n",
    "    \n",
    "    \"Diego Velázquez\": \"Diego Velázquez (1599–1660) was a Spanish Baroque painter, renowned for his realistic portraits and mastery of light. His work 'Las Meninas' remains one of the most studied paintings in art history. Velázquez influenced countless artists, including the Impressionists.\",\n",
    "    \n",
    "    \"Henri Matisse\": \"Henri Matisse (1869–1954) was a French artist, leader of Fauvism. His bold colors and expressive shapes, seen in 'The Dance' and 'Woman with a Hat', redefined modern art. Matisse’s later cut-out works pushed the boundaries of abstraction and design.\",\n",
    "    \n",
    "    \"Jan van Eyck\": \"Jan van Eyck (c. 1390–1441) was a Flemish painter and pioneer of oil painting. His meticulous detail and use of light, evident in 'The Arnolfini Portrait', marked a turning point in Northern Renaissance art. He was a master of realism and symbolism.\",\n",
    "    \n",
    "    \"Edgar Degas\": \"Edgar Degas (1834–1917) was a French Impressionist known for capturing movement, particularly in ballet dancers. Works like 'The Dance Class' show his innovative composition and pastel technique. Degas also explored sculpture and photography, expanding Impressionism’s visual language.\",\n",
    "    \n",
    "    \"Rembrandt\": \"Rembrandt van Rijn (1606–1669) was a Dutch Baroque master, renowned for dramatic lighting and psychological depth. His self-portraits and 'The Night Watch' highlight his skill in portraiture and storytelling. Rembrandt’s mastery of chiaroscuro influenced generations of artists.\",\n",
    "    \n",
    "    \"Titian\": \"Titian (c. 1488–1576) was a Venetian Renaissance painter celebrated for dynamic compositions and rich color. His mythological and religious works, such as 'Bacchus and Ariadne', set new standards for portraiture and oil painting. Titian’s influence extended across Europe.\",\n",
    "    \n",
    "    \"Henri de Toulouse-Lautrec\": \"Henri de Toulouse-Lautrec (1864–1901) was a French Post-Impressionist, known for vivid depictions of Parisian nightlife. His posters, such as 'Moulin Rouge: La Goulue', capture the energy of cabarets and theaters. Despite health issues, he left a lasting impact on poster art and modernism.\",\n",
    "    \n",
    "    \"Gustave Courbet\": \"Gustave Courbet (1819–1877) was a French Realist painter who rejected academic traditions in favor of everyday subjects. His works, including 'The Stone Breakers' and 'A Burial at Ornans', challenged artistic norms and laid the foundation for modern realism.\",\n",
    "    \n",
    "    \"Camille Pissarro\": \"Camille Pissarro (1830–1903) was a Danish-French Impressionist and mentor to many, including Cézanne. His landscapes and street scenes, such as 'Boulevard Montmartre at Night', captured urban life and nature with innovative techniques that influenced Post-Impressionism.\",\n",
    "    \n",
    "    \"William Turner\": \"J.M.W. Turner (1775–1851) was an English Romantic painter known for atmospheric landscapes and seascapes. His works, like 'The Fighting Temeraire' and 'Rain, Steam and Speed', showcase dramatic light and movement, making him a forerunner of Impressionism.\",\n",
    "    \n",
    "    \"Edvard Munch\": \"Edvard Munch (1863–1944) was a Norwegian Symbolist painter, best known for 'The Scream'. His emotionally charged works explored themes of anxiety, death, and love, influencing German Expressionism and modern psychological art.\",\n",
    "    \n",
    "    \"Paul Cézanne\": \"Paul Cézanne (1839–1906) was a French Post-Impressionist who bridged Impressionism and Cubism. His still lifes and landscapes, like 'Mont Sainte-Victoire', emphasized geometric forms, influencing Picasso and modern abstraction.\",\n",
    "    \n",
    "    \"Eugène Delacroix\": \"Eugène Delacroix (1798–1863) was a French Romantic painter known for dramatic compositions and vivid color. His masterpiece 'Liberty Leading the People' symbolizes revolution and passion, making him a key figure in 19th-century art.\",\n",
    "    \n",
    "    \"Henri Rousseau\": \"Henri Rousseau (1844–1910) was a French Post-Impressionist known for naïve, dreamlike jungle scenes. Self-taught, his works like 'The Sleeping Gypsy' captivate with surreal imagery and vibrant color. His unique style inspired Surrealism.\",\n",
    "    \n",
    "    \"Georges Seurat\": \"Georges Seurat (1859–1891) was a French Post-Impressionist who pioneered Pointillism. His masterpiece 'A Sunday Afternoon on the Island of La Grande Jatte' used tiny color dots to create a luminous effect, revolutionizing painting techniques.\",\n",
    "    \n",
    "    \"Paul Klee\": \"Paul Klee (1879–1940) was a Swiss-German painter whose abstract works blend surrealism, cubism, and expressionism. His childlike yet profound paintings, like 'Twittering Machine', showcase his love for color theory and symbolic storytelling.\",\n",
    "    \n",
    "    \"Piet Mondrian\": \"Piet Mondrian (1872–1944) was a Dutch artist and pioneer of geometric abstraction. His 'Composition with Red, Blue, and Yellow' epitomizes his style, reducing art to pure form and color. His ideas influenced modern design and minimalism.\",\n",
    "    \n",
    "    \"Joan Miró\": \"Joan Miró (1893–1983) was a Spanish surrealist known for playful, abstract forms. His paintings, like 'The Harlequin’s Carnival', use bold colors and biomorphic shapes, inspiring modern abstraction. Miró also worked in sculpture and murals.\",\n",
    "    \n",
    "    \"Andy Warhol\": \"Andy Warhol (1928–1987) was an American Pop Art icon, transforming everyday objects and celebrities into art. Works like 'Campbell’s Soup Cans' and 'Marilyn Diptych' explore consumer culture and mass media, redefining modern visual art.\",\n",
    "    \n",
    "    \"Paul Gauguin\": \"Paul Gauguin (1848–1903) was a French Post-Impressionist who sought inspiration in Tahiti. His colorful, symbolic works, like 'Where Do We Come From?', emphasize emotion over realism. His bold use of color influenced Expressionism and Fauvism.\",\n",
    "    \n",
    "    \"Raphael\": \"Raphael (1483–1520) was a Renaissance master known for harmonious compositions and idealized figures. His frescoes in the Vatican, including 'The School of Athens', exemplify Renaissance balance and perspective.\",\n",
    "    \n",
    "    \"Michelangelo\": \"Michelangelo (1475–1564) was an Italian Renaissance sculptor, painter, and architect. His masterpieces, including 'David' and the Sistine Chapel ceiling, showcase unparalleled skill and anatomical precision, shaping Western art forever.\"\n",
    "})\n",
    "\n",
    "# Display the dictionary\n",
    "print(len(artist_bios))\n"
   ]
  },
  {
   "cell_type": "code",
   "execution_count": 34,
   "metadata": {},
   "outputs": [],
   "source": [
    "try: \n",
    "    df = pd.read_csv(r\"opendata-main/data/constituents.csv\", encoding=\"utf-8\")\n",
    "except UnicodeDecodeError:\n",
    "    df = pd.read_csv(r\"opendata-main/data/constituents.csv\", encoding=\"ISO-8859-1\")\n",
    "\n",
    "filtered_df = df[df[\"forwarddisplayname\"].str.lower().isin([artist.lower() for artist in artists])]\n"
   ]
  },
  {
   "cell_type": "code",
   "execution_count": null,
   "metadata": {},
   "outputs": [],
   "source": [
    "# remove row with contituentid 29299\n",
    "filtered_df = filtered_df[filtered_df[\"constituentid\"] != 29299]\n",
    "# unique values in column nationality\n",
    "filtered_df[\"nationality\"].unique()\n",
    "nationality_to_country = {\n",
    "    \"Netherlandish\": \"Netherlands\",\n",
    "    \"Italian\": \"Italy\",\n",
    "    \"Russian\": \"Russia\",\n",
    "    \"French\": \"France\",\n",
    "    \"Spanish\": \"Spain\",\n",
    "    \"German\": \"Germany\",\n",
    "    \"Dutch\": \"Netherlands\",\n",
    "    \"Greek\": \"Greece\",\n",
    "    \"Austrian\": \"Austria\",\n",
    "    \"American\": \"United States of America\",\n",
    "    \"Mexican\": \"Mexico\",\n",
    "    \"Swiss\": \"Switzerland\",\n",
    "    \"Belgian\": \"Belgium\",\n",
    "    \"Norwegian\": \"Norway\"\n",
    "}\n",
    "\n",
    "filtered_df[\"country\"] = filtered_df[\"nationality\"].map(nationality_to_country)"
   ]
  },
  {
   "cell_type": "code",
   "execution_count": 61,
   "metadata": {},
   "outputs": [],
   "source": [
    "# add column 'bio' to the filtered_df dataframe and match the bio from the artist_bios dictionary with the forwarddisplayname\n",
    "filtered_df[\"bio\"] = filtered_df[\"forwarddisplayname\"].map(artist_bios)"
   ]
  },
  {
   "cell_type": "code",
   "execution_count": 65,
   "metadata": {},
   "outputs": [
    {
     "name": "stdout",
     "output_type": "stream",
     "text": [
      "{'Amedeo Modigliani': 'https://upload.wikimedia.org/wikipedia/commons/thumb/d/db/Amedeo_Modigliani_in_his_studio.jpg/500px-Amedeo_Modigliani_in_his_studio.jpg', 'Wassily Kandinsky': 'https://upload.wikimedia.org/wikipedia/commons/thumb/c/cf/Vassily_Kandinsky_by_Adolf_Elnain_2.png/500px-Vassily_Kandinsky_by_Adolf_Elnain_2.png', 'Diego Rivera': 'https://upload.wikimedia.org/wikipedia/commons/thumb/b/be/Diego_Rivera_-_Google_Art_Project_%28cropped%29.jpg/500px-Diego_Rivera_-_Google_Art_Project_%28cropped%29.jpg', 'Claude Monet': 'https://upload.wikimedia.org/wikipedia/commons/thumb/a/a4/Claude_Monet_1899_Nadar_crop.jpg/500px-Claude_Monet_1899_Nadar_crop.jpg', 'René Magritte': 'https://upload.wikimedia.org/wikipedia/commons/thumb/1/1f/Portrait_en_buste_du_peintre_surr%C3%A9aliste_Ren%C3%A9_Magritte_%281898-1967%29_le_18_octobre_1961_devant_une_de_ses_toiles_La_persp%2C_PH19994.jpg/500px-Portrait_en_buste_du_peintre_surr%C3%A9aliste_Ren%C3%A9_Magritte_%281898-1967%29_le_18_octobre_1961_devant_une_de_ses_toiles_La_persp%2C_PH19994.jpg', 'Salvador Dalí': 'https://upload.wikimedia.org/wikipedia/commons/thumb/2/24/Salvador_Dal%C3%AD_1939.jpg/500px-Salvador_Dal%C3%AD_1939.jpg', 'Édouard Manet': 'https://upload.wikimedia.org/wikipedia/commons/thumb/2/20/%C3%89douard_Manet%2C_en_buste%2C_de_face_-_Nadar.jpg/500px-%C3%89douard_Manet%2C_en_buste%2C_de_face_-_Nadar.jpg', 'Andrei Rublev': 'https://upload.wikimedia.org/wikipedia/commons/thumb/5/50/1961_CPA_2553.jpg/500px-1961_CPA_2553.jpg', 'Vincent van Gogh': 'https://upload.wikimedia.org/wikipedia/commons/thumb/4/4c/Vincent_van_Gogh_-_Self-Portrait_-_Google_Art_Project_%28454045%29.jpg/500px-Vincent_van_Gogh_-_Self-Portrait_-_Google_Art_Project_%28454045%29.jpg', 'Gustav Klimt': 'https://upload.wikimedia.org/wikipedia/commons/thumb/d/d8/Klimt.jpg/500px-Klimt.jpg', 'Hieronymus Bosch': 'https://upload.wikimedia.org/wikipedia/commons/thumb/2/2d/Jheronimus_Bosch_%28cropped%29.jpg/500px-Jheronimus_Bosch_%28cropped%29.jpg', 'Kazimir Malevich': 'https://upload.wikimedia.org/wikipedia/commons/thumb/6/63/Casimir_Malevich_photo.jpg/500px-Casimir_Malevich_photo.jpg', 'Mikhail Vrubel': 'https://upload.wikimedia.org/wikipedia/commons/thumb/6/60/Vrubel_1900.jpg/500px-Vrubel_1900.jpg', 'Pablo Picasso': 'https://upload.wikimedia.org/wikipedia/commons/thumb/9/98/Pablo_picasso_1.jpg/500px-Pablo_picasso_1.jpg', 'Peter Paul Rubens': 'https://upload.wikimedia.org/wikipedia/commons/thumb/a/a7/Sir_Peter_Paul_Rubens_-_Portrait_of_the_Artist_-_Google_Art_Project.jpg/500px-Sir_Peter_Paul_Rubens_-_Portrait_of_the_Artist_-_Google_Art_Project.jpg', 'Pierre-Auguste Renoir': 'https://upload.wikimedia.org/wikipedia/commons/thumb/6/67/Pierre_Auguste_Renoir%2C_uncropped_image.jpg/500px-Pierre_Auguste_Renoir%2C_uncropped_image.jpg', 'Francisco Goya': 'https://upload.wikimedia.org/wikipedia/commons/thumb/b/bf/Vicente_L%C3%B3pez_Porta%C3%B1a_-_el_pintor_Francisco_de_Goya.jpg/500px-Vicente_L%C3%B3pez_Porta%C3%B1a_-_el_pintor_Francisco_de_Goya.jpg', 'Frida Kahlo': 'https://upload.wikimedia.org/wikipedia/commons/thumb/0/06/Frida_Kahlo%2C_by_Guillermo_Kahlo.jpg/500px-Frida_Kahlo%2C_by_Guillermo_Kahlo.jpg', 'El Greco': 'https://upload.wikimedia.org/wikipedia/commons/thumb/e/eb/El_Greco_-_Portrait_of_a_Man_-_WGA10554.jpg/500px-El_Greco_-_Portrait_of_a_Man_-_WGA10554.jpg', 'Albrecht Dürer': 'https://upload.wikimedia.org/wikipedia/commons/thumb/8/88/Albrecht_D%C3%BCrer%2C_Selbstbildnis_mit_26_Jahren_%28Prado%2C_Madrid%29.jpg/500px-Albrecht_D%C3%BCrer%2C_Selbstbildnis_mit_26_Jahren_%28Prado%2C_Madrid%29.jpg', 'Alfred Sisley': 'https://upload.wikimedia.org/wikipedia/commons/b/bf/Alfred_Sisley_photo_full.jpg', 'Pieter Bruegel': 'No image found', 'Marc Chagall': 'https://upload.wikimedia.org/wikipedia/commons/thumb/5/54/Shagal_Choumoff.jpg/500px-Shagal_Choumoff.jpg', 'Giotto di Bondone': 'No image found', 'Sandro Botticelli': 'https://upload.wikimedia.org/wikipedia/commons/thumb/d/d4/Sandro_Botticelli_083.jpg/500px-Sandro_Botticelli_083.jpg', 'Caravaggio': 'https://upload.wikimedia.org/wikipedia/commons/thumb/7/73/Bild-Ottavio_Leoni%2C_Caravaggio.jpg/500px-Bild-Ottavio_Leoni%2C_Caravaggio.jpg', 'Leonardo da Vinci': 'https://upload.wikimedia.org/wikipedia/commons/thumb/c/cb/Francesco_Melzi_-_Portrait_of_Leonardo.png/500px-Francesco_Melzi_-_Portrait_of_Leonardo.png', 'Diego Velázquez': 'https://upload.wikimedia.org/wikipedia/commons/thumb/6/6c/Diego_Vel%C3%A1zquez_Autorretrato_45_x_38_cm_-_Colecci%C3%B3n_Real_Academia_de_Bellas_Artes_de_San_Carlos_-_Museo_de_Bellas_Artes_de_Valencia.jpg/500px-Diego_Vel%C3%A1zquez_Autorretrato_45_x_38_cm_-_Colecci%C3%B3n_Real_Academia_de_Bellas_Artes_de_San_Carlos_-_Museo_de_Bellas_Artes_de_Valencia.jpg', 'Henri Matisse': 'https://upload.wikimedia.org/wikipedia/commons/thumb/7/76/Henri_Matisse%2C_1913%2C_photograph_by_Alvin_Langdon_Coburn.jpg/500px-Henri_Matisse%2C_1913%2C_photograph_by_Alvin_Langdon_Coburn.jpg', 'Jan van Eyck': 'https://upload.wikimedia.org/wikipedia/commons/thumb/8/8b/Portrait_of_a_Man_by_Jan_van_Eyck-small.jpg/500px-Portrait_of_a_Man_by_Jan_van_Eyck-small.jpg', 'Edgar Degas': 'https://upload.wikimedia.org/wikipedia/commons/thumb/a/a3/Self-portrait_by_Edgar_Degas.jpg/500px-Self-portrait_by_Edgar_Degas.jpg', 'Rembrandt': 'https://upload.wikimedia.org/wikipedia/commons/thumb/b/bd/Rembrandt_van_Rijn_-_Self-Portrait_-_Google_Art_Project.jpg/500px-Rembrandt_van_Rijn_-_Self-Portrait_-_Google_Art_Project.jpg', 'Titian': 'https://upload.wikimedia.org/wikipedia/commons/thumb/5/53/Tizian_090.jpg/500px-Tizian_090.jpg', 'Henri de Toulouse-Lautrec': 'https://upload.wikimedia.org/wikipedia/commons/thumb/a/aa/Photolautrec.jpg/500px-Photolautrec.jpg', 'Gustave Courbet': 'https://upload.wikimedia.org/wikipedia/commons/thumb/7/7b/Gustave_Courbet%2C_photograph_Atelier_Nadar%2C_c._1860s.jpg/500px-Gustave_Courbet%2C_photograph_Atelier_Nadar%2C_c._1860s.jpg', 'Camille Pissarro': 'https://upload.wikimedia.org/wikipedia/commons/e/ef/Pissarro-portrait.jpg', 'William Turner': 'No image found', 'Edvard Munch': 'https://upload.wikimedia.org/wikipedia/commons/7/77/Edvard_Munch_%283x4_cropped%29.jpg', 'Paul Cézanne': 'https://upload.wikimedia.org/wikipedia/commons/c/c4/Paul-Cezanne.jpg', 'Eugène Delacroix': 'https://upload.wikimedia.org/wikipedia/commons/thumb/e/e9/F%C3%A9lix_Nadar_1820-1910_portraits_Eug%C3%A8ne_Delacroix_restored.jpg/500px-F%C3%A9lix_Nadar_1820-1910_portraits_Eug%C3%A8ne_Delacroix_restored.jpg', 'Henri Rousseau': 'https://upload.wikimedia.org/wikipedia/commons/thumb/f/fc/Rousseau_Joyeux_Farceurs_Dornac_crop.jpg/500px-Rousseau_Joyeux_Farceurs_Dornac_crop.jpg', 'Georges Seurat': 'https://upload.wikimedia.org/wikipedia/commons/thumb/7/76/Georges_Seurat_1888.jpg/500px-Georges_Seurat_1888.jpg', 'Paul Klee': 'https://upload.wikimedia.org/wikipedia/commons/thumb/2/2a/Paul_Klee_by_Hugo_Erfurth%2C_1927.jpg/500px-Paul_Klee_by_Hugo_Erfurth%2C_1927.jpg', 'Piet Mondrian': 'https://upload.wikimedia.org/wikipedia/commons/thumb/8/83/Piet_Mondriaan.jpg/500px-Piet_Mondriaan.jpg', 'Joan Miró': 'https://upload.wikimedia.org/wikipedia/commons/thumb/5/5c/Portrait_of_Joan_Miro%2C_Barcelona_1935_June_13.jpg/500px-Portrait_of_Joan_Miro%2C_Barcelona_1935_June_13.jpg', 'Andy Warhol': 'https://upload.wikimedia.org/wikipedia/commons/thumb/5/5b/Andy_Warhol_at_the_Jewish_Museum_%28by_Bernard_Gotfryd%29_%E2%80%93_LOC.jpg/500px-Andy_Warhol_at_the_Jewish_Museum_%28by_Bernard_Gotfryd%29_%E2%80%93_LOC.jpg', 'Paul Gauguin': 'https://upload.wikimedia.org/wikipedia/commons/5/53/Paul_Gauguin_1891.png', 'Raphael': 'https://upload.wikimedia.org/wikipedia/commons/thumb/f/f6/Raffaello_Sanzio.jpg/500px-Raffaello_Sanzio.jpg', 'Michelangelo': 'https://upload.wikimedia.org/wikipedia/commons/thumb/0/02/Michelangelo_Daniele_da_Volterra_%28dettaglio%29.jpg/500px-Michelangelo_Daniele_da_Volterra_%28dettaglio%29.jpg', 'Jackson Pollock': 'https://upload.wikimedia.org/wikipedia/commons/thumb/2/2f/Jackson_Pollock%27s_passport_%28cropped%29.jpg/500px-Jackson_Pollock%27s_passport_%28cropped%29.jpg'}\n"
     ]
    }
   ],
   "source": [
    "import requests\n",
    "\n",
    "def get_wikipedia_profile_image(person_name):\n",
    "    # Step 1: Get the page title\n",
    "    search_url = f\"https://en.wikipedia.org/w/api.php\"\n",
    "    search_params = {\n",
    "        \"action\": \"query\",\n",
    "        \"format\": \"json\",\n",
    "        \"titles\": person_name,\n",
    "        \"prop\": \"pageimages\",\n",
    "        \"pithumbsize\": 500  # Set thumbnail size (adjust as needed)\n",
    "    }\n",
    "    \n",
    "    response = requests.get(search_url, params=search_params)\n",
    "    data = response.json()\n",
    "    \n",
    "    pages = data.get(\"query\", {}).get(\"pages\", {})\n",
    "    \n",
    "    for page_id, page_data in pages.items():\n",
    "        if \"thumbnail\" in page_data:\n",
    "            return page_data[\"thumbnail\"][\"source\"]\n",
    "    \n",
    "    return \"No image found\"\n",
    "\n",
    "# create a dictionary with the artist name as key and the image url as value\n",
    "image_urls = {artist: get_wikipedia_profile_image(artist) for artist in artists}"
   ]
  },
  {
   "cell_type": "code",
   "execution_count": 66,
   "metadata": {},
   "outputs": [],
   "source": [
    "# create a column in filtered_df called 'imageprofile' and map the image url from the image_urls dictionary\n",
    "filtered_df[\"imageprofile\"] = filtered_df[\"forwarddisplayname\"].map(image_urls)\n",
    "filtered_df"
   ]
  },
  {
   "cell_type": "code",
   "execution_count": 69,
   "metadata": {},
   "outputs": [],
   "source": [
    "# output filtered_df to csv\n",
    "filtered_df.to_csv(r\"opendata-main/data/filtered_data/filtered_constituents.csv\", index=False)"
   ]
  },
  {
   "cell_type": "code",
   "execution_count": null,
   "metadata": {},
   "outputs": [],
   "source": [
    "## FILTERING THE OBJECTS DATA\n",
    "try: \n",
    "    objects_con_df = pd.read_csv(r\"opendata-main/data/objects_constituents.csv\", encoding=\"utf-8\")\n",
    "except UnicodeDecodeError:\n",
    "    objects_con_df = pd.read_csv(r\"opendata-main/data/objects_constituents.csv\", encoding=\"ISO-8859-1\")\n",
    "\n",
    "filtered_objects_con_df = objects_con_df[objects_con_df[\"constituentid\"].isin(filtered_df[\"constituentid\"])]\n",
    "\n"
   ]
  },
  {
   "cell_type": "code",
   "execution_count": null,
   "metadata": {},
   "outputs": [],
   "source": [
    "filtered_objects_con_df.to_csv(r\"opendata-main/data/filtered_objects_constituents.csv\", index=False)"
   ]
  },
  {
   "cell_type": "code",
   "execution_count": null,
   "metadata": {},
   "outputs": [],
   "source": [
    "try: \n",
    "    objects_df = pd.read_csv(r\"opendata-main/data/objects.csv\", encoding=\"utf-8\")\n",
    "except UnicodeDecodeError:\n",
    "    objects_df = pd.read_csv(r\"opendata-main/data/objects.csv\", encoding=\"ISO-8859-1\")\n",
    "\n",
    "filtered_objects_df = objects_df[objects_df[\"objectid\"].isin(filtered_objects_con_df[\"objectid\"])]"
   ]
  },
  {
   "cell_type": "code",
   "execution_count": 43,
   "metadata": {},
   "outputs": [],
   "source": [
    "filtered_objects_df.to_csv(r\"opendata-main/data/filtered_objects.csv\", index=False)"
   ]
  },
  {
   "cell_type": "code",
   "execution_count": 46,
   "metadata": {},
   "outputs": [],
   "source": [
    "try: \n",
    "    images_df = pd.read_csv(r\"opendata-main/data/published_images.csv\", encoding=\"utf-8\")\n",
    "except UnicodeDecodeError:\n",
    "    images_df = pd.read_csv(r\"opendata-main/data/published_images.csv\", encoding=\"ISO-8859-1\")\n",
    "\n",
    "filtered_images_df = images_df[images_df[\"depictstmsobjectid\"].isin(filtered_objects_df[\"objectid\"])]"
   ]
  },
  {
   "cell_type": "code",
   "execution_count": 54,
   "metadata": {},
   "outputs": [
    {
     "name": "stderr",
     "output_type": "stream",
     "text": [
      "C:\\Users\\abmir\\AppData\\Local\\Temp\\ipykernel_11540\\4180520859.py:1: SettingWithCopyWarning: \n",
      "A value is trying to be set on a copy of a slice from a DataFrame.\n",
      "Try using .loc[row_indexer,col_indexer] = value instead\n",
      "\n",
      "See the caveats in the documentation: https://pandas.pydata.org/pandas-docs/stable/user_guide/indexing.html#returning-a-view-versus-a-copy\n",
      "  filtered_images_df[\"image_url\"] = filtered_images_df[\"iiifurl\"].apply(lambda x: f\"{x}/full/600,/0/default.jpg\" if pd.notna(x) else \"\")\n"
     ]
    }
   ],
   "source": [
    "filtered_images_df[\"image_url\"] = filtered_images_df[\"iiifurl\"].apply(lambda x: f\"{x}/full/600,/0/default.jpg\" if pd.notna(x) else \"\")\n",
    "\n",
    "filtered_images_df.to_csv(r\"opendata-main/data/filtered_data/filtered_images.csv\", index=False)"
   ]
  },
  {
   "cell_type": "code",
   "execution_count": 49,
   "metadata": {},
   "outputs": [],
   "source": [
    "try: \n",
    "    object_dim_df = pd.read_csv(r\"opendata-main/data/objects_dimensions.csv\", encoding=\"utf-8\")\n",
    "except UnicodeDecodeError:\n",
    "    object_dim_df = pd.read_csv(r\"opendata-main/data/objects_dimensions.csv\", encoding=\"ISO-8859-1\")\n",
    "\n",
    "filtered_object_dim_df = object_dim_df[object_dim_df[\"objectid\"].isin(filtered_objects_df[\"objectid\"])]"
   ]
  },
  {
   "cell_type": "code",
   "execution_count": 50,
   "metadata": {},
   "outputs": [],
   "source": [
    "filtered_object_dim_df.to_csv(r\"opendata-main/data/filtered_data/filtered_objects_dimensions.csv\", index=False)"
   ]
  }
 ],
 "metadata": {
  "kernelspec": {
   "display_name": "Python 3",
   "language": "python",
   "name": "python3"
  },
  "language_info": {
   "codemirror_mode": {
    "name": "ipython",
    "version": 3
   },
   "file_extension": ".py",
   "mimetype": "text/x-python",
   "name": "python",
   "nbconvert_exporter": "python",
   "pygments_lexer": "ipython3",
   "version": "3.12.5"
  }
 },
 "nbformat": 4,
 "nbformat_minor": 2
}
